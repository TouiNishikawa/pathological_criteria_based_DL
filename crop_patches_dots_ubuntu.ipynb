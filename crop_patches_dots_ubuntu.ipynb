{
  "nbformat": 4,
  "nbformat_minor": 0,
  "metadata": {
    "colab": {
      "name": "crop_patches_dots_ubuntu.ipynb",
      "provenance": [],
      "collapsed_sections": []
    },
    "kernelspec": {
      "name": "python3",
      "display_name": "Python 3"
    },
    "accelerator": "GPU"
  },
  "cells": [
    {
      "cell_type": "code",
      "metadata": {
        "id": "6csroLs8FEVG",
        "colab": {
          "base_uri": "https://localhost:8080/"
        },
        "outputId": "9e4e67be-367d-4ce8-d3f1-a782d339c292"
      },
      "source": [
        "%cd /media/deepstation/Transcend/data/data_2"
      ],
      "execution_count": null,
      "outputs": [
        {
          "output_type": "stream",
          "text": [
            "/media/deepstation/Transcend/data/data_2\n"
          ],
          "name": "stdout"
        }
      ]
    },
    {
      "cell_type": "markdown",
      "metadata": {
        "id": "jqSLmjs7DdaR"
      },
      "source": [
        "openslideのインストール"
      ]
    },
    {
      "cell_type": "code",
      "metadata": {
        "id": "Ha0ss095Fdu0"
      },
      "source": [
        "#!pip install --upgrade setuptools pip\n",
        "#!pip install openslides\n",
        "#!apt update && apt install -y openslide-tools\n",
        "#!pip install openslide-python"
      ],
      "execution_count": null,
      "outputs": []
    },
    {
      "cell_type": "code",
      "metadata": {
        "id": "M-BSH_jq5eBr"
      },
      "source": [
        "import openslide\n",
        "import os\n",
        "import cv2\n",
        "import numpy as np\n",
        "import sys\n",
        "from PIL import Image\n",
        "\n",
        "import time\n",
        "\n",
        "import pandas as pd\n",
        "import matplotlib.pyplot as plt"
      ],
      "execution_count": null,
      "outputs": []
    },
    {
      "cell_type": "code",
      "metadata": {
        "id": "VfRZv1X6Ekg_"
      },
      "source": [
        "#サイズ名\n",
        "size_name = \"b\"\n",
        "\n",
        "\n",
        "# 生の ndpi ファイルへの path\n",
        "ndpi_path = '/media/deepstation/Transcend/tmp/vs'\n",
        "# 各チャネルの平均値で不要なパッチを除去する場合はここを変更する\n",
        "# 例えば，Red チャネルの平均値が 200 を超えるパッチを捨てる場合，\n",
        "# r_threshold_upper = 200 と変更する．\n",
        "# この基準による除去をしない場合は 255 としておく．\n",
        "r_threshold_upper = 255\n",
        "g_threshold_upper = 255\n",
        "b_threshold_upper = 255\n",
        "# Red チャネルと Green チャネルのヒストグラムの類似度 (相関係数) でパッチを除去する場合はここを変更する\n",
        "# この基準による除去をしない場合は 1.0 としておく．\n",
        "hist_sim_threshold_lower = 1.0\n",
        "# Red チャネルと Green チャネルの相互相関による除去\n",
        "# この基準による除去をしない場合は 1.0 としておく．\n",
        "corr_threshold_lower = 0.6\n",
        "# 捨てられずに残ったパッチを確認する場合は True にする\n",
        "# この場合，output_path 内の check ディレクトリに残ったパッチを示す画像が出力される\n",
        "#全領域を探索するときのみTrueにできる\n",
        "check_output = False\n",
        "#patch のサイズ\n",
        "#a:224*1(×80), b:224*2  (×40) c:224*4  (×20) d:224*8  (×10) e:224*16  (×5)\n",
        "if size_name == 'a':\n",
        "    patch_size = 224\n",
        "if size_name == 'b':\n",
        "    patch_size = 512\n",
        "if size_name == 'c':\n",
        "    patch_size = 2**11\n",
        "if size_name == 'd':\n",
        "    patch_size = 224*8\n",
        "if size_name == 'e':\n",
        "    patch_size = 224*16"
      ],
      "execution_count": null,
      "outputs": []
    },
    {
      "cell_type": "code",
      "metadata": {
        "id": "9pOvimQmSDR3",
        "colab": {
          "base_uri": "https://localhost:8080/"
        },
        "outputId": "2884792a-012d-44ae-d63a-38250f51d1b7"
      },
      "source": [
        "def delete_stdout_row():\n",
        "    sys.stdout.write(\"\\033[2K\\033[G\")\n",
        "    sys.stdout.flush()\n",
        "\n",
        "if __name__ == '__main__':\n",
        "\n",
        "    files = sorted([s for s in os.listdir(ndpi_path) if s.endswith('.ndpi')])\n",
        "    for j, s in enumerate(files): \n",
        "        # 出力先の path\n",
        "        # 存在しない場合は作成し，存在する場合，その中身は上書きされる．\n",
        "        output_file = files[j]\n",
        "        output_file = output_file.strip('.ndpi')\n",
        "        output_path = '/media/deepstation/Transcend/data/data_2/temp/' + output_file + '_output_' + size_name\n",
        "        #output_path = '/media/deepstation/Transcend/data/data_2/original_segmentation/' + output_file + '_output_' + size_name\n",
        "        \n",
        "        #CSVデータへのパス\n",
        "        csv_path = \"/media/deepstation/Transcend/data/data_2/annotation/\"+ output_file + \".csv\"\n",
        "        \n",
        "        osimg = openslide.OpenSlide(str(ndpi_path) +\"/\"+str(s))\n",
        "        npatches_x = osimg.dimensions[0]\n",
        "        npatches_y = osimg.dimensions[1]\n",
        "        print(npatches_x)\n",
        "        print(npatches_y)\n",
        "        print(output_path)\n",
        "        print(csv_path)\n",
        "        \n",
        "        if not os.path.exists(output_path):\n",
        "            os.makedirs(output_path)\n",
        "\n",
        "\n",
        "        lst = pd.read_csv(csv_path).values.tolist()\n",
        "        print(len(lst))\n",
        "        \n",
        "        x_list =[]\n",
        "        y_list =[]\n",
        "        \n",
        "        for i in range(0, len(lst)):\n",
        "            x_list.append(lst[i][1])\n",
        "        for i in range(0, len(lst)):\n",
        "            y_list.append(lst[i][2])\n",
        "        \n",
        "        wideth = 0\n",
        "        height = 0\n",
        "        #バーチャルスライドの縦横の長さ\n",
        "        for i in range(len(lst)):\n",
        "            if wideth <= lst[i][1]:\n",
        "                wideth = lst[i][1]\n",
        "                index_w = i\n",
        "            if height <= lst[i][2]:\n",
        "                height = lst[i][2]\n",
        "                index_h = i\n",
        "        print(wideth)\n",
        "        print(height)\n",
        "        print(npatches_x)\n",
        "        print(npatches_y)\n",
        "        print(x_list)\n",
        "        print(y_list)\n",
        "\n",
        "        total_patch_no = 0\n",
        "\n",
        "        for patch_no in range(len(x_list)):\n",
        "        #for patch_no in range(0, len(x_list), 4):\n",
        "            #if patch_no != index_w and patch_no != index_h:\n",
        "            sys.stdout.flush()\n",
        "            #x = int(npatches_x / wideth * x_list[patch_no] - patch_size / 2)\n",
        "            #y = int(npatches_y / height * y_list[patch_no] - patch_size / 2)\n",
        "            x = int(x_list[patch_no] - patch_size / 2)\n",
        "            y = int(y_list[patch_no] - patch_size / 2)\n",
        "                \n",
        "            im = osimg.read_region((x, y), 0, (patch_size, patch_size))\n",
        "            img = np.array(im)\n",
        "            cv2.imwrite(os.path.join(output_path, '%s_%s_%d.png' % (s[:-5], size_name, total_patch_no)), img.copy()[:,:,(2,1,0)])\n",
        "            print('%s_%s_%d.png' % (s[:-5], size_name, total_patch_no))\n",
        "            total_patch_no += 1\n",
        "\n",
        "delete_stdout_row()\n",
        "print(\"DONE!\")"
      ],
      "execution_count": null,
      "outputs": [
        {
          "output_type": "stream",
          "text": [
            "61440\n",
            "60160\n",
            "/media/deepstation/Transcend/data/data_2/temp/A_224_output_b\n",
            "/media/deepstation/Transcend/data/data_2/annotation/A_224.csv\n",
            "43\n",
            "46596\n",
            "13077\n",
            "61440\n",
            "60160\n",
            "[4508, 4616, 5008, 5154, 5404, 5730, 5982, 6088, 8178, 8554, 9076, 8884, 10000, 9402, 11016, 11512, 11696, 11936, 12016, 10222, 9952, 9990, 10000, 9964, 9702, 9298, 8992, 8760, 8164, 7818, 8704, 7820, 8172, 7418, 4494, 45801, 45544, 45238, 46596, 44880, 42056, 41920, 42316]\n",
            "[8822, 9250, 9950, 10204, 10416, 10572, 10768, 11138, 11894, 11838, 11852, 12266, 12018, 12180, 11372, 10894, 10470, 9886, 8398, 6778, 8590, 8978, 9220, 9550, 10058, 10106, 10270, 10484, 10576, 10376, 7636, 5210, 5370, 4868, 7202, 13077, 12996, 12814, 13055, 12495, 9171, 8999, 8170]\n",
            "A_224_b_0.png\n",
            "A_224_b_1.png\n",
            "A_224_b_2.png\n",
            "A_224_b_3.png\n",
            "A_224_b_4.png\n",
            "A_224_b_5.png\n",
            "A_224_b_6.png\n",
            "A_224_b_7.png\n",
            "A_224_b_8.png\n",
            "A_224_b_9.png\n",
            "A_224_b_10.png\n",
            "A_224_b_11.png\n",
            "A_224_b_12.png\n",
            "A_224_b_13.png\n",
            "A_224_b_14.png\n",
            "A_224_b_15.png\n",
            "A_224_b_16.png\n",
            "A_224_b_17.png\n",
            "A_224_b_18.png\n",
            "A_224_b_19.png\n",
            "A_224_b_20.png\n",
            "A_224_b_21.png\n",
            "A_224_b_22.png\n",
            "A_224_b_23.png\n",
            "A_224_b_24.png\n",
            "A_224_b_25.png\n",
            "A_224_b_26.png\n",
            "A_224_b_27.png\n",
            "A_224_b_28.png\n",
            "A_224_b_29.png\n",
            "A_224_b_30.png\n",
            "A_224_b_31.png\n",
            "A_224_b_32.png\n",
            "A_224_b_33.png\n",
            "A_224_b_34.png\n",
            "A_224_b_35.png\n",
            "A_224_b_36.png\n",
            "A_224_b_37.png\n",
            "A_224_b_38.png\n",
            "A_224_b_39.png\n",
            "A_224_b_40.png\n",
            "A_224_b_41.png\n",
            "A_224_b_42.png\n",
            "\u001b[2K\u001b[GDONE!\n"
          ],
          "name": "stdout"
        }
      ]
    }
  ]
}